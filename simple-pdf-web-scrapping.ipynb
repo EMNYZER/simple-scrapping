{
 "cells": [
  {
   "cell_type": "code",
   "execution_count": 42,
   "metadata": {},
   "outputs": [],
   "source": [
    "import bs4\n",
    "import os\n",
    "import requests\n",
    "\n",
    "import pandas as pd"
   ]
  },
  {
   "cell_type": "code",
   "execution_count": 43,
   "metadata": {},
   "outputs": [],
   "source": [
    "url = 'https://peraturan.go.id/'\n",
    "folder_path = 'pdf_peraturan'\n",
    "\n",
    "if not os.path.exists(folder_path):\n",
    "         os.makedirs(folder_path)\n"
   ]
  },
  {
   "cell_type": "code",
   "execution_count": 44,
   "metadata": {},
   "outputs": [
    {
     "name": "stdout",
     "output_type": "stream",
     "text": [
      "Downloaded: pdf_peraturan\\perpres-no-43-tahun-2024.pdf\n",
      "Downloaded: pdf_peraturan\\perpres-no-60-tahun-2024.pdf\n",
      "Downloaded: pdf_peraturan\\perpres-no-61-tahun-2024.pdf\n",
      "Downloaded: pdf_peraturan\\perpres-no-59-tahun-2024.pdf\n",
      "Downloaded: pdf_peraturan\\perpres-no-58-tahun-2024.pdf\n",
      "Downloaded: pdf_peraturan\\permendikbudristek-no-19-tahun-2024.pdf\n",
      "Downloaded: pdf_peraturan\\permenkeu-no-38+-tahun-2024.pdf\n",
      "Downloaded: pdf_peraturan\\permendag-no-10-tahun-2024.pdf\n",
      "Downloaded: pdf_peraturan\\permenkeu-no-37+-tahun-2024.pdf\n",
      "Downloaded: pdf_peraturan\\permendag-no-11-tahun-2024.pdf\n",
      "Downloaded: pdf_peraturan\\peraturan-bapanas-no-5-tahun-2024.pdf\n",
      "Downloaded: pdf_peraturan\\peraturan-bapanas-no-4-tahun-2024.pdf\n",
      "Downloaded: pdf_peraturan\\peraturan-bapanas-no-3-tahun-2024.pdf\n",
      "Downloaded: pdf_peraturan\\peraturan-bssn-no-4-tahun-2024.pdf\n",
      "Downloaded: pdf_peraturan\\peraturan-bapanas-no-2-tahun-2024.pdf\n",
      "Downloaded: pdf_peraturan\\perda-provinsi-sumatera-barat-no-7-tahun-2023.pdf\n",
      "Downloaded: pdf_peraturan\\perda-provinsi-di-yogyakarta-no-11-tahun-2023.pdf\n",
      "Downloaded: pdf_peraturan\\perda-provinsi-sumatera-barat-no-6-tahun-2023.pdf\n",
      "Downloaded: pdf_peraturan\\perda-provinsi-jambi-no-12-tahun-2023.pdf\n",
      "Downloaded: pdf_peraturan\\perda-provinsi-jawa-barat-no-8-tahun-2023.pdf\n",
      "Downloaded: pdf_peraturan\\permenkumham-no-14-tahun-2024.pdf\n",
      "Downloaded: pdf_peraturan\\permenkumham-no-13-tahun-2024.pdf\n",
      "Downloaded: pdf_peraturan\\permenkumham-no-12-tahun-2024.pdf\n",
      "Downloaded: pdf_peraturan\\permenkumham-no-11-tahun-2024.pdf\n",
      "Downloaded: pdf_peraturan\\permenkumham-no-10-tahun-2024.pdf\n",
      "Downloaded: pdf_peraturan\\perpres-no-60-tahun-2023_terjemah.pdf\n",
      "Downloaded: pdf_peraturan\\perda-provinsi-lampung-no-2-tahun-2024_terjemah.pdf\n",
      "Downloaded: pdf_peraturan\\perpres-no-79-tahun-2023_terjemah.pdf\n",
      "Downloaded: pdf_peraturan\\uu-no-21-tahun-2023_terjemah.pdf\n",
      "Downloaded: pdf_peraturan\\peraturan-kpu-no-19-tahun-2023_terjemah.pdf\n",
      "Downloaded: pdf_peraturan\\putusan-mahkamah-konstitusi-no-90-puu-xxi-2023-tahun-2023.pdf\n",
      "Downloaded: pdf_peraturan\\putusan-mahkamah-konstitusi-no-65-puu-xxi-2023-tahun-2023.pdf\n",
      "Downloaded: pdf_peraturan\\putusan-mahkamah-konstitusi-no-93-puu-xx-2022-tahun-2023.pdf\n",
      "Downloaded: pdf_peraturan\\putusan-mahkamah-konstitusi-no-112-puu-xx-2022+-tahun-2023.pdf\n",
      "Downloaded: pdf_peraturan\\putusan-mahkamah-konstitusi-no-26-puu-xxi-2023-tahun-2023.pdf\n",
      "Semua file PDF berhasil diunduh!\n"
     ]
    }
   ],
   "source": [
    "response = requests.get(url)\n",
    "response.raise_for_status()\n",
    "\n",
    "soup = bs4.BeautifulSoup(response.text, 'html.parser')\n",
    "pdf_links = soup.find_all('a',href=True)\n",
    "\n",
    "for link in pdf_links:\n",
    "     href = link['href']\n",
    "     if href.lower().endswith('.pdf'):\n",
    "          pdf_url = href if href.startswith('https') or href.startswith('http') else url + href\n",
    "\n",
    "          pdf_name = os.path.join(folder_path, pdf_url.split('/')[-1])\n",
    "\n",
    "          pdf_response = requests.get(pdf_url)\n",
    "          pdf_response.raise_for_status()\n",
    "\n",
    "          with open(pdf_name, 'wb') as pdf_file:\n",
    "               pdf_file.write(pdf_response.content)\n",
    "\n",
    "          print(f\"Downloaded: {pdf_name}\")\n",
    "\n",
    "print(\"Semua file PDF berhasil diunduh!\")\n"
   ]
  }
 ],
 "metadata": {
  "kernelspec": {
   "display_name": "Python 3",
   "language": "python",
   "name": "python3"
  },
  "language_info": {
   "codemirror_mode": {
    "name": "ipython",
    "version": 3
   },
   "file_extension": ".py",
   "mimetype": "text/x-python",
   "name": "python",
   "nbconvert_exporter": "python",
   "pygments_lexer": "ipython3",
   "version": "3.10.8"
  }
 },
 "nbformat": 4,
 "nbformat_minor": 2
}
